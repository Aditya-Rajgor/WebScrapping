{
 "cells": [
  {
   "cell_type": "code",
   "execution_count": 33,
   "id": "4590661a",
   "metadata": {},
   "outputs": [],
   "source": [
    "import requests\n",
    "from bs4 import BeautifulSoup\n",
    "import pandas as pd"
   ]
  },
  {
   "cell_type": "code",
   "execution_count": 5,
   "id": "cbfbcffa",
   "metadata": {},
   "outputs": [],
   "source": [
    "URL = 'https://webscraper.io/test-sites/e-commerce/allinone'"
   ]
  },
  {
   "cell_type": "code",
   "execution_count": 7,
   "id": "1b0e2ef2",
   "metadata": {},
   "outputs": [],
   "source": [
    "response = requests.get(URL)"
   ]
  },
  {
   "cell_type": "code",
   "execution_count": 8,
   "id": "ff07cd29",
   "metadata": {},
   "outputs": [
    {
     "data": {
      "text/plain": [
       "200"
      ]
     },
     "execution_count": 8,
     "metadata": {},
     "output_type": "execute_result"
    }
   ],
   "source": [
    "response.status_code"
   ]
  },
  {
   "cell_type": "code",
   "execution_count": 10,
   "id": "c991e692",
   "metadata": {},
   "outputs": [],
   "source": [
    "soup = BeautifulSoup(response.text, 'html.parser')\n",
    "table = soup.find_all('div', class_='thumbnail')"
   ]
  },
  {
   "cell_type": "code",
   "execution_count": 32,
   "id": "867a1aba",
   "metadata": {},
   "outputs": [],
   "source": [
    "description = []\n",
    "reviews = []\n",
    "rating = []\n",
    "more_info = []\n",
    "\n",
    "# looping through each data\n",
    "for t in table:\n",
    "    description.append(t.find('p', class_='description').text)\n",
    "    reviews.append(t.find('p', class_='pull-right').text)\n",
    "    rating.append(t.find('div', class_='ratings').find_all('p')[-1]['data-rating'])\n",
    "    more_info.append('https://webscraper.io/test-sites/e-commerce/allinone'+t.find('h4', class_='').find('a', href=True)['href'])"
   ]
  },
  {
   "cell_type": "code",
   "execution_count": 35,
   "id": "4bb895d2",
   "metadata": {},
   "outputs": [],
   "source": [
    "# exporting into the dataframe\n",
    "df = pd.DataFrame({\n",
    "    'description':description,\n",
    "    'reviews':reviews,\n",
    "    'rating':rating,\n",
    "    'more_info':more_info\n",
    "})"
   ]
  },
  {
   "cell_type": "code",
   "execution_count": 36,
   "id": "01596bf9",
   "metadata": {},
   "outputs": [
    {
     "data": {
      "text/html": [
       "<div>\n",
       "<style scoped>\n",
       "    .dataframe tbody tr th:only-of-type {\n",
       "        vertical-align: middle;\n",
       "    }\n",
       "\n",
       "    .dataframe tbody tr th {\n",
       "        vertical-align: top;\n",
       "    }\n",
       "\n",
       "    .dataframe thead th {\n",
       "        text-align: right;\n",
       "    }\n",
       "</style>\n",
       "<table border=\"1\" class=\"dataframe\">\n",
       "  <thead>\n",
       "    <tr style=\"text-align: right;\">\n",
       "      <th></th>\n",
       "      <th>description</th>\n",
       "      <th>reviews</th>\n",
       "      <th>rating</th>\n",
       "      <th>more_info</th>\n",
       "    </tr>\n",
       "  </thead>\n",
       "  <tbody>\n",
       "    <tr>\n",
       "      <th>0</th>\n",
       "      <td>Asus ROG Strix GL753VE-GC096T, 17.3\" FHD, Core...</td>\n",
       "      <td>7 reviews</td>\n",
       "      <td>4</td>\n",
       "      <td>https://webscraper.io/test-sites/e-commerce/al...</td>\n",
       "    </tr>\n",
       "    <tr>\n",
       "      <th>1</th>\n",
       "      <td>Lenovo V510 Black, 14\" HD, Core i3-6006U, 4GB,...</td>\n",
       "      <td>8 reviews</td>\n",
       "      <td>3</td>\n",
       "      <td>https://webscraper.io/test-sites/e-commerce/al...</td>\n",
       "    </tr>\n",
       "    <tr>\n",
       "      <th>2</th>\n",
       "      <td>7\" screen, Android, 16GB</td>\n",
       "      <td>7 reviews</td>\n",
       "      <td>1</td>\n",
       "      <td>https://webscraper.io/test-sites/e-commerce/al...</td>\n",
       "    </tr>\n",
       "  </tbody>\n",
       "</table>\n",
       "</div>"
      ],
      "text/plain": [
       "                                         description    reviews rating  \\\n",
       "0  Asus ROG Strix GL753VE-GC096T, 17.3\" FHD, Core...  7 reviews      4   \n",
       "1  Lenovo V510 Black, 14\" HD, Core i3-6006U, 4GB,...  8 reviews      3   \n",
       "2                           7\" screen, Android, 16GB  7 reviews      1   \n",
       "\n",
       "                                           more_info  \n",
       "0  https://webscraper.io/test-sites/e-commerce/al...  \n",
       "1  https://webscraper.io/test-sites/e-commerce/al...  \n",
       "2  https://webscraper.io/test-sites/e-commerce/al...  "
      ]
     },
     "execution_count": 36,
     "metadata": {},
     "output_type": "execute_result"
    }
   ],
   "source": [
    "df"
   ]
  },
  {
   "cell_type": "code",
   "execution_count": 37,
   "id": "2e10cfd6",
   "metadata": {},
   "outputs": [],
   "source": [
    "#Saving the data\n",
    "df.to_csv('test_ecom.csv', index=False)"
   ]
  },
  {
   "cell_type": "markdown",
   "id": "478c7aa6",
   "metadata": {},
   "source": [
    "## TO-DO:\n",
    "- Click the link and get more info"
   ]
  }
 ],
 "metadata": {
  "kernelspec": {
   "display_name": "Python 3 (ipykernel)",
   "language": "python",
   "name": "python3"
  },
  "language_info": {
   "codemirror_mode": {
    "name": "ipython",
    "version": 3
   },
   "file_extension": ".py",
   "mimetype": "text/x-python",
   "name": "python",
   "nbconvert_exporter": "python",
   "pygments_lexer": "ipython3",
   "version": "3.9.1"
  }
 },
 "nbformat": 4,
 "nbformat_minor": 5
}
